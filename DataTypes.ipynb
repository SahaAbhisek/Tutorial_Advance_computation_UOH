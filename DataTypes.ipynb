{
 "cells": [
  {
   "cell_type": "markdown",
   "metadata": {},
   "source": [
    "# Advanced Computational Physics Course\n",
    "## Tutorial 1\n",
    "### @SahaAbhisek"
   ]
  },
  {
   "cell_type": "markdown",
   "metadata": {},
   "source": [
    "# Data Types in Python"
   ]
  },
  {
   "cell_type": "markdown",
   "metadata": {},
   "source": [
    "![data_types](images/python-data-types.png \"Python Data Types\")"
   ]
  },
  {
   "cell_type": "markdown",
   "metadata": {},
   "source": [
    "# Numeric"
   ]
  },
  {
   "cell_type": "markdown",
   "metadata": {},
   "source": [
    "* ### Number objects are created when you assign a value to them\n",
    "* ### They are immutable data types, means that changing the value of a number data type results in a newly allocated object.\n",
    "\n",
    "* ### Python supports four different numerical types −\n",
    "\n",
    "* * #### int (signed integers) \n",
    "* * #### long (long integers )\n",
    "* * #### float (floating point real values) \n",
    "* * #### complex (complex numbers)"
   ]
  },
  {
   "cell_type": "code",
   "execution_count": 1,
   "metadata": {},
   "outputs": [
    {
     "name": "stdout",
     "output_type": "stream",
     "text": [
      "<class 'int'> 450 <class 'complex'>\n",
      "<class 'float'> 5e+47 <class 'complex'>\n",
      "<class 'complex'> (10+90j)\n"
     ]
    }
   ],
   "source": [
    "a = 45\n",
    "b = 50E45\n",
    "c = 1 + 9j\n",
    "print( type(a), a*10, type(a+5j) )\n",
    "print( type(b), b*10, type(b-.8j) )\n",
    "print( type(c), c*10)"
   ]
  },
  {
   "cell_type": "markdown",
   "metadata": {},
   "source": [
    "## Number Type Conversion"
   ]
  },
  {
   "cell_type": "code",
   "execution_count": 2,
   "metadata": {},
   "outputs": [
    {
     "name": "stdout",
     "output_type": "stream",
     "text": [
      "Type of fc:  <class 'complex'>\n",
      "fc =  (5.3+0j)\n",
      "\n",
      "Type of fi:  <class 'int'>\n",
      "fi =  5\n",
      "\n"
     ]
    }
   ],
   "source": [
    "f = 5.3\n",
    "# converting into complex\n",
    "fc = complex(f)\n",
    "print(\"Type of fc: \",type(fc))\n",
    "print(\"fc = \",fc)\n",
    "print()\n",
    "\n",
    "# Converting into integer\n",
    "fi = int(f)\n",
    "print(\"Type of fi: \",type(fi))\n",
    "print(\"fi = \",fi)\n",
    "print()"
   ]
  },
  {
   "cell_type": "markdown",
   "metadata": {},
   "source": [
    "# Sequence Type\n",
    "\n",
    "* ### The most basic data structure in Python is the sequence. Each element of a sequence is assigned a number - its position or index. The first index is zero, the second index is one, and so forth.\n",
    "\n",
    "* ### indexing, slicing, adding, multiplying, checking for membership, maximum, minimum"
   ]
  },
  {
   "cell_type": "markdown",
   "metadata": {},
   "source": [
    "# Strings\n",
    "\n",
    "* ### Sequence of characters of length n (n=1,2,...)\n",
    "* ### n=1 is char"
   ]
  },
  {
   "cell_type": "code",
   "execution_count": 3,
   "metadata": {},
   "outputs": [],
   "source": [
    "subject = 'Quantum Mechanics'          # Anything in quotation"
   ]
  },
  {
   "cell_type": "code",
   "execution_count": 4,
   "metadata": {},
   "outputs": [
    {
     "data": {
      "text/plain": [
       "'Quantum Mechanics'"
      ]
     },
     "execution_count": 4,
     "metadata": {},
     "output_type": "execute_result"
    }
   ],
   "source": [
    "subject"
   ]
  },
  {
   "cell_type": "code",
   "execution_count": 5,
   "metadata": {},
   "outputs": [
    {
     "name": "stdout",
     "output_type": "stream",
     "text": [
      "<class 'str'>\n"
     ]
    }
   ],
   "source": [
    "print(type(subject))"
   ]
  },
  {
   "cell_type": "code",
   "execution_count": 6,
   "metadata": {},
   "outputs": [],
   "source": [
    "event = \"\"\" Schrodinger's \"cat\" \"\"\""
   ]
  },
  {
   "cell_type": "code",
   "execution_count": 7,
   "metadata": {},
   "outputs": [
    {
     "data": {
      "text/plain": [
       "' Schrodinger\\'s \"cat\" '"
      ]
     },
     "execution_count": 7,
     "metadata": {},
     "output_type": "execute_result"
    }
   ],
   "source": [
    "event"
   ]
  },
  {
   "cell_type": "code",
   "execution_count": 8,
   "metadata": {},
   "outputs": [
    {
     "name": "stdout",
     "output_type": "stream",
     "text": [
      "Scrodinger's \n",
      "cat\n"
     ]
    }
   ],
   "source": [
    "event1 = \"Scrodinger's \\ncat\"\n",
    "print(event1)"
   ]
  },
  {
   "cell_type": "markdown",
   "metadata": {},
   "source": [
    "### Formatting strings"
   ]
  },
  {
   "cell_type": "code",
   "execution_count": 9,
   "metadata": {},
   "outputs": [
    {
     "name": "stdout",
     "output_type": "stream",
     "text": [
      "The sum of 39.5 and 4 is 43.5\n",
      "The sum of 39.500 and 4 is 43.50\n"
     ]
    }
   ],
   "source": [
    "a=39.5\n",
    "b=4\n",
    "sum = a + b\n",
    "string1 = \"The sum of {} and {} is {}\".format(a,b,sum)\n",
    "print(string1)\n",
    "\n",
    "string2 = \"The sum of %1.3f and %d is %1.2f\"%(a,b,sum)\n",
    "print(string2)"
   ]
  },
  {
   "cell_type": "markdown",
   "metadata": {},
   "source": [
    "## String Operation"
   ]
  },
  {
   "cell_type": "code",
   "execution_count": 10,
   "metadata": {},
   "outputs": [],
   "source": [
    "# Concatenation\n",
    "\n",
    "topic = event + \" and \" + subject"
   ]
  },
  {
   "cell_type": "code",
   "execution_count": 11,
   "metadata": {},
   "outputs": [
    {
     "data": {
      "text/plain": [
       "' Schrodinger\\'s \"cat\"  and Quantum Mechanics'"
      ]
     },
     "execution_count": 11,
     "metadata": {},
     "output_type": "execute_result"
    }
   ],
   "source": [
    "topic"
   ]
  },
  {
   "cell_type": "code",
   "execution_count": 12,
   "metadata": {},
   "outputs": [
    {
     "data": {
      "text/plain": [
       "' Schrodinger\\'s \"cat\"  Schrodinger\\'s \"cat\" '"
      ]
     },
     "execution_count": 12,
     "metadata": {},
     "output_type": "execute_result"
    }
   ],
   "source": [
    "event*2"
   ]
  },
  {
   "cell_type": "code",
   "execution_count": 13,
   "metadata": {},
   "outputs": [
    {
     "data": {
      "text/plain": [
       "' Schrodinger\\'s \"cat\" '"
      ]
     },
     "execution_count": 13,
     "metadata": {},
     "output_type": "execute_result"
    }
   ],
   "source": [
    "# Slices\n",
    "event"
   ]
  },
  {
   "cell_type": "code",
   "execution_count": 14,
   "metadata": {},
   "outputs": [
    {
     "data": {
      "text/plain": [
       "21"
      ]
     },
     "execution_count": 14,
     "metadata": {},
     "output_type": "execute_result"
    }
   ],
   "source": [
    "len(event)"
   ]
  },
  {
   "cell_type": "code",
   "execution_count": 15,
   "metadata": {},
   "outputs": [
    {
     "data": {
      "text/plain": [
       "' Schr'"
      ]
     },
     "execution_count": 15,
     "metadata": {},
     "output_type": "execute_result"
    }
   ],
   "source": [
    "event[0:5]"
   ]
  },
  {
   "cell_type": "code",
   "execution_count": 16,
   "metadata": {},
   "outputs": [
    {
     "data": {
      "text/plain": [
       "' Schroding'"
      ]
     },
     "execution_count": 16,
     "metadata": {},
     "output_type": "execute_result"
    }
   ],
   "source": [
    "event[0:10]"
   ]
  },
  {
   "cell_type": "code",
   "execution_count": 17,
   "metadata": {},
   "outputs": [
    {
     "data": {
      "text/plain": [
       "' Schrodinger\\'s \"'"
      ]
     },
     "execution_count": 17,
     "metadata": {},
     "output_type": "execute_result"
    }
   ],
   "source": [
    "event[:-5]"
   ]
  },
  {
   "cell_type": "markdown",
   "metadata": {},
   "source": [
    "# List\n",
    "\n",
    "* ## any comma-separated values (items) between square brackets."
   ]
  },
  {
   "cell_type": "code",
   "execution_count": 18,
   "metadata": {},
   "outputs": [
    {
     "name": "stdout",
     "output_type": "stream",
     "text": [
      "list1 =  ['physics', 'chemistry', 1997, 2000] ,  Type =  <class 'list'>\n",
      "list2 =  [1, 2, 3, 4, 5] ,  Type =  <class 'list'>\n",
      "list3 =  ['a', 'b', 'c', 'd'] ,  Type =  <class 'list'>\n"
     ]
    }
   ],
   "source": [
    "list1 = ['physics', 'chemistry', 1997, 2000]\n",
    "list2 = [1, 2, 3, 4, 5 ]\n",
    "list3 = [\"a\", \"b\", \"c\", \"d\"]\n",
    "\n",
    "print(\"list1 = \",list1, \",  Type = \", type(list1))\n",
    "print(\"list2 = \",list2, \",  Type = \", type(list2))\n",
    "print(\"list3 = \",list3, \",  Type = \", type(list3))"
   ]
  },
  {
   "cell_type": "code",
   "execution_count": 19,
   "metadata": {},
   "outputs": [
    {
     "name": "stdout",
     "output_type": "stream",
     "text": [
      "physics 1997 2000\n"
     ]
    }
   ],
   "source": [
    "# indexing: starts from 0, ends at length-1\n",
    "print( list1[0], list1[2], list1[-1] )"
   ]
  },
  {
   "cell_type": "code",
   "execution_count": 20,
   "metadata": {},
   "outputs": [
    {
     "data": {
      "text/plain": [
       "([3, 4, 5], [1, 2, 3, 4])"
      ]
     },
     "execution_count": 20,
     "metadata": {},
     "output_type": "execute_result"
    }
   ],
   "source": [
    "# Slicing\n",
    "list2[2:5], list2[:-1]"
   ]
  },
  {
   "cell_type": "code",
   "execution_count": 21,
   "metadata": {},
   "outputs": [
    {
     "name": "stdout",
     "output_type": "stream",
     "text": [
      "Updated list3:  ['a', 'b', 'p', 'd']\n",
      "\n",
      "Updated list3:  ['a', 'b', 'p']\n",
      "\n"
     ]
    }
   ],
   "source": [
    "# updating list: mutable\n",
    "list3[2] ='p'\n",
    "print( \"Updated list3: \", list3)\n",
    "print()\n",
    "\n",
    "# Removing elenment\n",
    "del list3[3]\n",
    "print( \"Updated list3: \", list3)\n",
    "print()"
   ]
  },
  {
   "cell_type": "code",
   "execution_count": 22,
   "metadata": {},
   "outputs": [
    {
     "name": "stdout",
     "output_type": "stream",
     "text": [
      "length of list4/ Number of elements:  7\n",
      "\n",
      "Maximum in list4:  64\n",
      "Minimum in list4:  3\n",
      "\n",
      "Concatenate x and y:  [1, 2, 3, 4, 5, 6]\n",
      "\n",
      "[1, 2, 3, 1, 2, 3, 1, 2, 3]\n",
      "If 4 is present in y:  True\n",
      "\n",
      "Appended list4:  [9, 64, 12, 44, 3, 21, 34, 55]\n"
     ]
    },
    {
     "data": {
      "text/plain": [
       "(1, array([ 3,  9, 12, 21, 34, 44, 55, 64]))"
      ]
     },
     "execution_count": 22,
     "metadata": {},
     "output_type": "execute_result"
    }
   ],
   "source": [
    "import numpy as np\n",
    "# List operations\n",
    "list4 = [9, 64, 12, 44, 3, 21, 34]\n",
    "\n",
    "print( \"length of list4/ Number of elements: \", len(list4) )\n",
    "print()\n",
    "\n",
    "# max and min\n",
    "print(\"Maximum in list4: \", max(list4) )\n",
    "print(\"Minimum in list4: \", min(list4) )\n",
    "print()\n",
    "\n",
    "# concatenation\n",
    "x = [1, 2, 3]\n",
    "y = [4, 5, 6]\n",
    "\n",
    "print(\"Concatenate x and y: \", x+y)\n",
    "print()\n",
    "\n",
    "# Repeatation\n",
    "print(x*3)\n",
    "\n",
    "# Search for membership\n",
    "print(\"If 4 is present in y: \", 4 in y)\n",
    "print()\n",
    "\n",
    "# appending in list\n",
    "list4.append(55)\n",
    "print(\"Appended list4: \", list4)\n",
    "\n",
    "# Occurance of an element\n",
    "list4.count(55), np.sort(list4)"
   ]
  },
  {
   "cell_type": "markdown",
   "metadata": {},
   "source": [
    "# Tuple\n",
    "\n",
    "## collection of objects in parenthesis which ordered and immutable. "
   ]
  },
  {
   "cell_type": "code",
   "execution_count": 23,
   "metadata": {},
   "outputs": [
    {
     "name": "stdout",
     "output_type": "stream",
     "text": [
      "tup1 =  ('physics', 'chemistry', 1997, 2000) ,  Type =  <class 'tuple'>\n",
      "tup2 =  (1, 2, 3, 4, 5) ,  Type =  <class 'tuple'>\n",
      "tup3 =  ('a', 'b', 'c', 'd') ,  Type =  <class 'tuple'>\n"
     ]
    }
   ],
   "source": [
    "tup1 = ('physics', 'chemistry', 1997, 2000)\n",
    "tup2 = (1, 2, 3, 4, 5 )\n",
    "tup3 = \"a\", \"b\", \"c\", \"d\"\n",
    "\n",
    "print(\"tup1 = \",tup1, \",  Type = \", type(tup1))\n",
    "print(\"tup2 = \",tup2, \",  Type = \", type(tup2))\n",
    "print(\"tup3 = \",tup3, \",  Type = \", type(tup3))"
   ]
  },
  {
   "cell_type": "markdown",
   "metadata": {},
   "source": [
    "## All the operations of lists except update are valid in case of tuple"
   ]
  },
  {
   "cell_type": "markdown",
   "metadata": {},
   "source": [
    "# Dictionary"
   ]
  },
  {
   "cell_type": "code",
   "execution_count": 24,
   "metadata": {},
   "outputs": [
    {
     "name": "stdout",
     "output_type": "stream",
     "text": [
      "Type:  <class 'dict'>\n",
      "dict1['Name']:  Zara\n",
      "dict1['Age']:  7\n"
     ]
    }
   ],
   "source": [
    "# Dictionary: key value pairs, separated by :, items are separated by comma\n",
    "dict1 = {'Name': 'Zara', 'Age': 7, 'Class': 'First'}\n",
    "\n",
    "print( \"Type: \", type(dict1))\n",
    "print( \"dict1['Name']: \", dict1['Name'] )\n",
    "print( \"dict1['Age']: \", dict1['Age'] )"
   ]
  },
  {
   "cell_type": "code",
   "execution_count": 25,
   "metadata": {},
   "outputs": [
    {
     "name": "stdout",
     "output_type": "stream",
     "text": [
      "{'Name': 'Zara', 'Age': 12, 'Class': 'First'}\n"
     ]
    }
   ],
   "source": [
    "# update using key\n",
    "dict1['Age']=12\n",
    "print(dict1)"
   ]
  },
  {
   "cell_type": "code",
   "execution_count": 26,
   "metadata": {},
   "outputs": [
    {
     "data": {
      "text/plain": [
       "dict_keys(['Name', 'Age', 'Class'])"
      ]
     },
     "execution_count": 26,
     "metadata": {},
     "output_type": "execute_result"
    }
   ],
   "source": [
    "dict1.keys()"
   ]
  },
  {
   "cell_type": "code",
   "execution_count": 27,
   "metadata": {},
   "outputs": [
    {
     "data": {
      "text/plain": [
       "dict_values(['Zara', 12, 'First'])"
      ]
     },
     "execution_count": 27,
     "metadata": {},
     "output_type": "execute_result"
    }
   ],
   "source": [
    "dict1.values()"
   ]
  },
  {
   "cell_type": "code",
   "execution_count": 28,
   "metadata": {},
   "outputs": [
    {
     "data": {
      "text/plain": [
       "dict_items([('Name', 'Zara'), ('Age', 12), ('Class', 'First')])"
      ]
     },
     "execution_count": 28,
     "metadata": {},
     "output_type": "execute_result"
    }
   ],
   "source": [
    "dict1.items()"
   ]
  },
  {
   "cell_type": "raw",
   "metadata": {},
   "source": [
    "# other operations\n",
    "dict1.get(key)\n",
    "\n",
    "dict1.has_key(key)\n",
    "\n",
    "dict1.items()\n",
    "\n",
    "dict1.update(dict2)"
   ]
  },
  {
   "cell_type": "markdown",
   "metadata": {},
   "source": [
    "# Set"
   ]
  },
  {
   "cell_type": "code",
   "execution_count": 29,
   "metadata": {},
   "outputs": [],
   "source": [
    "s=  {1,4,'t5'}"
   ]
  },
  {
   "cell_type": "code",
   "execution_count": 30,
   "metadata": {},
   "outputs": [
    {
     "data": {
      "text/plain": [
       "set"
      ]
     },
     "execution_count": 30,
     "metadata": {},
     "output_type": "execute_result"
    }
   ],
   "source": [
    "type(s)"
   ]
  },
  {
   "cell_type": "code",
   "execution_count": 31,
   "metadata": {},
   "outputs": [
    {
     "data": {
      "text/plain": [
       "{1, 2, 3, 4, 5, 6, 9}"
      ]
     },
     "execution_count": 31,
     "metadata": {},
     "output_type": "execute_result"
    }
   ],
   "source": [
    "s = [1,2,3,3,4,5,5,5,6,9,6,6]\n",
    "s = set(s)\n",
    "s"
   ]
  },
  {
   "cell_type": "markdown",
   "metadata": {},
   "source": [
    "# Some Basic Operations"
   ]
  },
  {
   "cell_type": "code",
   "execution_count": 32,
   "metadata": {},
   "outputs": [
    {
     "name": "stdout",
     "output_type": "stream",
     "text": [
      "Addition of a and b:  19\n",
      "Subtraction of a and b:  11\n",
      "Multiplication of a and b:  60\n",
      "Integer Division of a and b:  3.75\n",
      "Floor Division of a and b:  3\n",
      "a exponent b:  50625\n",
      "3\n"
     ]
    }
   ],
   "source": [
    "# Some Basic Operations\n",
    "a = 15\n",
    "b = 4\n",
    "\n",
    "# Addition\n",
    "print( \"Addition of a and b: \", a+b)\n",
    "\n",
    "# Subtraction\n",
    "print( \"Subtraction of a and b: \", a-b)\n",
    "\n",
    "# Multiplication\n",
    "print( \"Multiplication of a and b: \", a*b)\n",
    "\n",
    "# Division\n",
    "print( \"Integer Division of a and b: \", a/b)\n",
    "print( \"Floor Division of a and b: \", a//b)\n",
    "\n",
    "# Exponent\n",
    "print( \"a exponent b: \", a**b)\n",
    "\n",
    "# Reminder\n",
    "print(a%b)"
   ]
  },
  {
   "cell_type": "markdown",
   "metadata": {},
   "source": [
    "# Comparison Operators"
   ]
  },
  {
   "cell_type": "code",
   "execution_count": 33,
   "metadata": {},
   "outputs": [
    {
     "name": "stdout",
     "output_type": "stream",
     "text": [
      "Checking if equal:  False\n",
      "Checking if not equal:  True\n",
      "Checking if a>b:  False\n",
      "Checking if a<b:  True\n"
     ]
    }
   ],
   "source": [
    "a=6\n",
    "b=60\n",
    "print (\"Checking if equal: \", a==b)     # Checking Equal \n",
    "print (\"Checking if not equal: \", a!=b) # Checking not equal\n",
    "\n",
    "print (\"Checking if a>b: \", a>=b)     # Checking Equal \n",
    "print (\"Checking if a<b: \", a<=b) # Checking not equal"
   ]
  },
  {
   "cell_type": "markdown",
   "metadata": {},
   "source": [
    "# Assignment Operators"
   ]
  },
  {
   "cell_type": "code",
   "execution_count": 34,
   "metadata": {},
   "outputs": [
    {
     "name": "stdout",
     "output_type": "stream",
     "text": [
      "12\n",
      "22\n",
      "20\n",
      "200\n"
     ]
    }
   ],
   "source": [
    "a = 10\n",
    "b = 2\n",
    "c = a+b\n",
    "print(c)\n",
    "\n",
    "# Add and\n",
    "c += a\n",
    "print(c)\n",
    "\n",
    "# Subtract and\n",
    "c -= b\n",
    "print(c)\n",
    "\n",
    "# muliply and\n",
    "c *= a\n",
    "print(c)"
   ]
  },
  {
   "cell_type": "markdown",
   "metadata": {},
   "source": [
    "# Other operators: Bitwise Operators(&, |, ^)\n",
    "&  binary and\n",
    "| binary or\n",
    "^ Binary XOR\n",
    "\n",
    "# Logical Operatros:\n",
    "and, or,  not\n",
    "    \n",
    "    \n",
    "# Membership Operators:\n",
    "in, not in\n",
    "\n",
    "# Identity Operators:\n",
    "is, is not"
   ]
  },
  {
   "cell_type": "markdown",
   "metadata": {},
   "source": [
    "## Some functions"
   ]
  },
  {
   "cell_type": "code",
   "execution_count": 35,
   "metadata": {},
   "outputs": [
    {
     "name": "stdout",
     "output_type": "stream",
     "text": [
      "Absolute value of f= 5.7\n",
      "\n",
      "The ceiling of x=  -5\n",
      "\n",
      "The floor of x=  -6\n",
      "\n",
      "Exponential of f= 0.003345965457471272\n",
      "\n",
      "The natural logarithm of 10:  2.302585092994046\n",
      "\n",
      "The base-10 logarithm of 10:  1.0\n",
      "\n",
      "Maximum in the tuple:  82\n",
      "\n",
      "Minimum in the tuple:  2\n",
      "\n",
      "3 to the power 2:  9\n",
      "\n",
      "The square root of x:  5.0\n",
      "\n",
      "5.124412354 round to 2 decimal points : 5.12\n"
     ]
    }
   ],
   "source": [
    "import math\n",
    "\n",
    "f = -5.7\n",
    "# abs(): returns the absolute value of the number\n",
    "print(\"Absolute value of f=\", abs(f))\n",
    "\n",
    "# ceil(f): the smallest integer not less than x\n",
    "print(\"\\nThe ceiling of x= \", math.ceil(f))\n",
    "\n",
    "# floor(f): the largest integer not greater than x\n",
    "print(\"\\nThe floor of x= \", math.floor(f))\n",
    "\n",
    "# exp(): Exponential\n",
    "print(\"\\nExponential of f=\", math.exp(f))\n",
    "\n",
    "# log(x): The natural logarithm of x, for x> 0\n",
    "print(\"\\nThe natural logarithm of 10: \",math.log(10))\n",
    "\n",
    "# log10(x): The base-10 logarithm of x for x> 0.\n",
    "print(\"\\nThe base-10 logarithm of 10: \", math.log10(10))\n",
    "\n",
    "# max and min of a series/list/tuple\n",
    "t = (10, 8, 82, 2)\n",
    "print(\"\\nMaximum in the tuple: \", max(t))\n",
    "print(\"\\nMinimum in the tuple: \", min(t))\n",
    "\n",
    "# pow(x, y):  x**y.\n",
    "print(\"\\n3 to the power 2: \",pow(3,2))\n",
    "\n",
    "# sqrt(x): The square root of x for x > 0\n",
    "print(\"\\nThe square root of x: \", math.sqrt(25))\n",
    "\n",
    "# round(x [,n]): x rounded to n digits from the decimal point\n",
    "print(\"\\n5.124412354 round to 2 decimal points :\", round(5.124412354,2))"
   ]
  },
  {
   "cell_type": "markdown",
   "metadata": {},
   "source": [
    "### Trigonometric functions"
   ]
  },
  {
   "cell_type": "code",
   "execution_count": 36,
   "metadata": {},
   "outputs": [
    {
     "name": "stdout",
     "output_type": "stream",
     "text": [
      "0.5000000000000001 0.49999999999999994 0.9999999999999999\n"
     ]
    }
   ],
   "source": [
    "#  Functions\n",
    "print(np.cos(60*np.pi/180),  np.sin(30*np.pi/180), math.tan(45*math.pi/180) ) "
   ]
  },
  {
   "cell_type": "code",
   "execution_count": 37,
   "metadata": {},
   "outputs": [
    {
     "name": "stdout",
     "output_type": "stream",
     "text": [
      "1.0471975511965979 1.0471975511965979\n"
     ]
    }
   ],
   "source": [
    "# inverse functions\n",
    "print( np.arccos(0.5), math.acos(0.5) )"
   ]
  },
  {
   "cell_type": "code",
   "execution_count": 38,
   "metadata": {},
   "outputs": [
    {
     "name": "stdout",
     "output_type": "stream",
     "text": [
      "1.1402383210764286 1.1402383210764286\n"
     ]
    }
   ],
   "source": [
    "# Hyperbolic functions \n",
    "print( np.cosh(30*np.pi/180), math.cosh(30 * math.pi/180))"
   ]
  },
  {
   "cell_type": "code",
   "execution_count": 39,
   "metadata": {},
   "outputs": [
    {
     "name": "stdout",
     "output_type": "stream",
     "text": [
      "0.867014726490565 0.867014726490565\n"
     ]
    }
   ],
   "source": [
    "# Inverse Hyperbolic\n",
    "print( np.arccosh(1.4), math.acosh(1.4))"
   ]
  },
  {
   "cell_type": "markdown",
   "metadata": {},
   "source": [
    "## Creating Random Numbers"
   ]
  },
  {
   "cell_type": "code",
   "execution_count": 40,
   "metadata": {},
   "outputs": [
    {
     "name": "stdout",
     "output_type": "stream",
     "text": [
      "Create an integer between 1 and 10:  3\n",
      "\n",
      "Create an integer between 0 and 1:  0.7675947235217561\n"
     ]
    }
   ],
   "source": [
    "# create Random Numbers\n",
    "np.sort([5,7,6,1])\n",
    "\n",
    "import random\n",
    "\n",
    "print(\"Create an integer between 1 and 10: \", random.randint(1,10) )\n",
    "\n",
    "print(\"\\nCreate an integer between 0 and 1: \", random.random() )"
   ]
  },
  {
   "cell_type": "code",
   "execution_count": 44,
   "metadata": {},
   "outputs": [
    {
     "data": {
      "image/png": "[encoded data removed]",
      "text/plain": [
       "<Figure size 720x324 with 2 Axes>"
      ]
     },
     "metadata": {
      "needs_background": "light"
     },
     "output_type": "display_data"
    }
   ],
   "source": [
    "import matplotlib.pyplot as plt\n",
    "import numpy as np\n",
    "r = []\n",
    "rn = []\n",
    "\n",
    "for i in range(1000):\n",
    "    #r.append(random.random()*2 )\n",
    "    rn.append(np.random.randn()*10)\n",
    "    r.append(np.random.rand())\n",
    "    \n",
    "\n",
    "\n",
    "plt.figure(figsize=(10,4.5))\n",
    "plt.subplot(1,2,1)\n",
    "plt.hist(r)\n",
    "\n",
    "plt.subplot(1,2,2)\n",
    "plt.hist(rn)\n",
    "\n",
    "plt.show()"
   ]
  },
  {
   "cell_type": "code",
   "execution_count": 45,
   "metadata": {},
   "outputs": [
    {
     "data": {
      "text/plain": [
       "0.298990910106933"
      ]
     },
     "execution_count": 45,
     "metadata": {},
     "output_type": "execute_result"
    }
   ],
   "source": [
    "np.random.rand()"
   ]
  },
  {
   "cell_type": "markdown",
   "metadata": {},
   "source": [
    "# ------------------------------------------------------------------------------------------------------"
   ]
  },
  {
   "cell_type": "markdown",
   "metadata": {},
   "source": [
    "# Loop Operations"
   ]
  },
  {
   "cell_type": "markdown",
   "metadata": {},
   "source": [
    "## If-Else Statement"
   ]
  },
  {
   "cell_type": "code",
   "execution_count": 46,
   "metadata": {},
   "outputs": [
    {
     "name": "stdout",
     "output_type": "stream",
     "text": [
      "a is greater than 10\n"
     ]
    }
   ],
   "source": [
    "a = 100\n",
    "if a>10:\n",
    "    print(\"a is greater than 10\")\n",
    "elif a<10:\n",
    "    print(\"a is less than 10\")\n",
    "else:\n",
    "    print(\"a is 10\")"
   ]
  },
  {
   "cell_type": "code",
   "execution_count": 47,
   "metadata": {},
   "outputs": [
    {
     "name": "stdout",
     "output_type": "stream",
     "text": [
      "1\n",
      "gscvk\n",
      "12\n"
     ]
    }
   ],
   "source": [
    "# for loop ==> iterate over the items of any sequence like lists or strings\n",
    "\n",
    "list1 = [1, \"gscvk\", 12]\n",
    "for i in range(len(list1)):\n",
    "    print(list1[i])"
   ]
  },
  {
   "cell_type": "code",
   "execution_count": 48,
   "metadata": {},
   "outputs": [
    {
     "name": "stdout",
     "output_type": "stream",
     "text": [
      "9\n",
      "64\n",
      "12\n",
      "44\n",
      "3\n",
      "21\n",
      "34\n",
      "55\n"
     ]
    }
   ],
   "source": [
    "for i in range(len(list4)):\n",
    "    print(list4[i])"
   ]
  },
  {
   "cell_type": "code",
   "execution_count": 49,
   "metadata": {
    "scrolled": true
   },
   "outputs": [
    {
     "name": "stdout",
     "output_type": "stream",
     "text": [
      "The count is: 0\n",
      "The count is: 1\n",
      "The count is: 2\n",
      "The count is: 3\n",
      "The count is: 4\n",
      "The count is: 5\n",
      "The count is: 6\n",
      "The count is: 7\n",
      "The count is: 8\n",
      "The count is: 9\n",
      "We reach the end!\n"
     ]
    }
   ],
   "source": [
    "#while loop\n",
    "count = 0\n",
    "while (count <= 9):\n",
    "    print( 'The count is:', count )\n",
    "    count += 1\n",
    "\n",
    "print( \"We reach the end!\")"
   ]
  },
  {
   "cell_type": "code",
   "execution_count": 50,
   "metadata": {},
   "outputs": [
    {
     "name": "stdout",
     "output_type": "stream",
     "text": [
      "The count is: 0        The list element is:  9\n",
      "The count is: 1        The list element is:  64\n",
      "The count is: 2        The list element is:  12\n",
      "The count is: 3        The list element is:  44\n",
      "The count is: 4        The list element is:  3\n",
      "The count is: 5        The list element is:  21\n",
      "The count is: 6        The list element is:  34\n",
      "The count is: 7        The list element is:  55\n"
     ]
    }
   ],
   "source": [
    "count = 0\n",
    "while (count < len(list4)):\n",
    "    print( 'The count is:', count , \"       The list element is: \", list4[count])\n",
    "    count = count + 1"
   ]
  },
  {
   "cell_type": "markdown",
   "metadata": {},
   "source": [
    "## Problem 1:\n",
    "### Create a rectangle filled with * of specific height and width"
   ]
  },
  {
   "cell_type": "code",
   "execution_count": 51,
   "metadata": {},
   "outputs": [
    {
     "name": "stdout",
     "output_type": "stream",
     "text": [
      "******\n",
      "******\n",
      "******\n",
      "******\n"
     ]
    }
   ],
   "source": [
    "width = 6\n",
    "height = 4\n",
    "\n",
    "for i in range(height):\n",
    "    print('*'*width)"
   ]
  },
  {
   "cell_type": "markdown",
   "metadata": {},
   "source": [
    "## Problem 2:\n",
    "### Create a triangle using * of any height"
   ]
  },
  {
   "cell_type": "code",
   "execution_count": 52,
   "metadata": {},
   "outputs": [
    {
     "name": "stdout",
     "output_type": "stream",
     "text": [
      "* \n",
      "* * \n",
      "* * * \n",
      "* * * * \n",
      "* * * * * \n"
     ]
    }
   ],
   "source": [
    "n = 5\n",
    "for i in range(n):\n",
    "    for j in range(0,i+1):\n",
    "        print(\"* \", end=\"\")\n",
    "    print()"
   ]
  },
  {
   "cell_type": "code",
   "execution_count": 53,
   "metadata": {},
   "outputs": [
    {
     "name": "stdout",
     "output_type": "stream",
     "text": [
      "* * * * *  \n",
      "* * * *  \n",
      "* * *  \n",
      "* *  \n",
      "*  \n",
      " \n"
     ]
    }
   ],
   "source": [
    "n=5\n",
    "for i in range(n + 1, 0, -1):    \n",
    "    for j in range(0, i - 1):  \n",
    "        print(\"*\", end=' ')  \n",
    "    print(\" \")  "
   ]
  },
  {
   "cell_type": "code",
   "execution_count": 54,
   "metadata": {},
   "outputs": [
    {
     "name": "stdout",
     "output_type": "stream",
     "text": [
      "            * \n",
      "          * * \n",
      "        * * * \n",
      "      * * * * \n",
      "    * * * * * \n",
      "  * * * * * * \n",
      "* * * * * * * \n"
     ]
    }
   ],
   "source": [
    "# This is the example of print simple reversed right angle pyramid pattern  \n",
    "n=7 \n",
    "k = 2 * n - 2  # It is used for number of spaces  \n",
    "for i in range(0, n):  \n",
    "    for j in range(0, k):  \n",
    "        print(end=\" \")  \n",
    "    k = k - 2   # decrement k value after each iteration  \n",
    "    for j in range(0, i + 1):  \n",
    "        print(\"* \", end=\"\")  # printing star  \n",
    "    print(\"\")  "
   ]
  },
  {
   "cell_type": "code",
   "execution_count": null,
   "metadata": {},
   "outputs": [],
   "source": []
  }
 ],
 "metadata": {
  "kernelspec": {
   "display_name": "Python 3",
   "language": "python",
   "name": "python3"
  },
  "language_info": {
   "codemirror_mode": {
    "name": "ipython",
    "version": 3
   },
   "file_extension": ".py",
   "mimetype": "text/x-python",
   "name": "python",
   "nbconvert_exporter": "python",
   "pygments_lexer": "ipython3",
   "version": "3.7.3"
  }
 },
 "nbformat": 4,
 "nbformat_minor": 2
}
